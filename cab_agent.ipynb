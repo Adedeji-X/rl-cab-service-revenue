{
 "cells": [
  {
   "cell_type": "markdown",
   "metadata": {},
   "source": [
    "## Cab Driver Agent\n",
    "---\n"
   ]
  },
  {
   "cell_type": "code",
   "execution_count": 1,
   "metadata": {},
   "outputs": [],
   "source": [
    "%config IPCompleter.greedy = True"
   ]
  },
  {
   "cell_type": "code",
   "execution_count": 2,
   "metadata": {},
   "outputs": [
    {
     "name": "stderr",
     "output_type": "stream",
     "text": [
      "Using TensorFlow backend.\n"
     ]
    }
   ],
   "source": [
    "import collections\n",
    "import numpy as np\n",
    "import random\n",
    "import pickle\n",
    "import time\n",
    "import os\n",
    "\n",
    "from keras import layers\n",
    "from keras import Sequential\n",
    "from keras.layers import Dense, Activation, Flatten\n",
    "from keras.optimizers import Adam\n",
    "\n",
    "from matplotlib import pyplot as plt\n",
    "from itertools import product\n",
    "from collections import defaultdict, deque\n",
    "from datetime import datetime\n",
    "\n",
    "from cab_environment import CabDriverEnvironment\n",
    "\n",
    "%matplotlib inline"
   ]
  },
  {
   "cell_type": "markdown",
   "metadata": {},
   "source": [
    "### State Tracking\n",
    "---"
   ]
  },
  {
   "cell_type": "markdown",
   "metadata": {},
   "source": [
    "#### tracking states initialization"
   ]
  },
  {
   "cell_type": "code",
   "execution_count": 3,
   "metadata": {},
   "outputs": [],
   "source": [
    "def initialize_tracking_states():\n",
    "    state_action_pair = [((1, 0, 0), (1, 2)), ((2, 2, 2), (3, 4)),\n",
    "                         ((3, 5, 6), (3, 3)), ((5, 0, 0), (2, 3)),\n",
    "                         ((4, 14, 4), (4, 3))]\n",
    "\n",
    "    for st, ac in state_action_pair:\n",
    "        tracked_states[st] = defaultdict()\n",
    "        tracked_states[st][ac] = list()"
   ]
  },
  {
   "cell_type": "markdown",
   "metadata": {},
   "source": [
    "#### persist q-values corresponding to tracked states"
   ]
  },
  {
   "cell_type": "code",
   "execution_count": null,
   "metadata": {},
   "outputs": [],
   "source": [
    "def update_tracking_states(driver):\n",
    "    for state in tracked_states.keys():\n",
    "        encoded_state = driver.cab_environment.state_encod_arch1(state)\n",
    "        q_predict = driver.model.predict(encoded_state)\n",
    "\n",
    "        for action in tracked_states[state].keys():\n",
    "            action_index = list(\n",
    "                filter(\n",
    "                    lambda x: action == driver.cab_environment.action_space[x],\n",
    "                    range(0, len(driver.cab_environment.action_space))))[0]\n",
    "            q_value = q_predict[0][action_index]\n",
    "            tracked_states[state][action].append(q_value)"
   ]
  },
  {
   "cell_type": "markdown",
   "metadata": {},
   "source": [
    "#### save model object"
   ]
  },
  {
   "cell_type": "code",
   "execution_count": 4,
   "metadata": {},
   "outputs": [],
   "source": [
    "def save_obj(obj, name):\n",
    "    with open(name + '.pkl', 'wb') as f:\n",
    "        pickle.dump(obj, f, pickle.HIGHEST_PROTOCOL)"
   ]
  },
  {
   "cell_type": "markdown",
   "metadata": {},
   "source": [
    "### Epsilon - Greedy Strategy\n",
    "---"
   ]
  },
  {
   "cell_type": "markdown",
   "metadata": {},
   "source": [
    "Epsilon greedy policy is a way of selecting random actions with uniform distribution from a set of available actions. Using this policy either we can select random action with epsilon probability and we can select an action with 1-epsilon probability that gives maximum reward in given state"
   ]
  },
  {
   "cell_type": "markdown",
   "metadata": {},
   "source": [
    "#### check epsilon decay over episodes"
   ]
  },
  {
   "cell_type": "code",
   "execution_count": 5,
   "metadata": {},
   "outputs": [
    {
     "data": {
      "image/png": "[encoded data removed]",
      "text/plain": [
       "<Figure size 432x288 with 1 Axes>"
      ]
     },
     "metadata": {
      "needs_background": "light"
     },
     "output_type": "display_data"
    }
   ],
   "source": [
    "epsilon = []\n",
    "max_epsilon = 1.0\n",
    "min_epsilon = 0.001\n",
    "\n",
    "# number of episodes for training : 10,000\n",
    "episodes = np.arange(0, 10000)\n",
    "\n",
    "for i in episodes:\n",
    "    epsilon.append(min_epsilon +\n",
    "                   (max_epsilon - min_epsilon) * np.exp(-0.0003 * i))\n",
    "\n",
    "plt.plot(episodes, epsilon)\n",
    "plt.show()"
   ]
  },
  {
   "cell_type": "markdown",
   "metadata": {},
   "source": [
    ">  formula to calculate epsilon : **(min_epsilon + (max_epsilon - min_epsilon) * np.exp(-0.0003 * i))**\n",
    "-  minimum epsilon : 0.001\n",
    "-  maximum epsilon : 1.0"
   ]
  },
  {
   "cell_type": "markdown",
   "metadata": {},
   "source": [
    "### DQN Agent Class\n",
    "---"
   ]
  },
  {
   "cell_type": "markdown",
   "metadata": {},
   "source": [
    "#### Q-Network Architecture\n",
    "---\n",
    "\n",
    "- input : encoded state i.e. each vector is a combination of locations + hours in a day + days in a week\n",
    "- output : q-values for all actions including (0, 0)"
   ]
  },
  {
   "cell_type": "markdown",
   "metadata": {},
   "source": [
    "#### Hyper parameters\n",
    "---\n",
    "\n",
    "- state_size : vector length of encoded states (number of neurons in input layer) : (36 -> 5 cities + 24 hours + 7 days)\n",
    "- action_size : vector length of predicted q_values for all actions : (21 -> (4*5) + 1  -> (m-1 * m) + 1) )\n",
    "- learning_rate\n",
    "- discount_factor\n",
    "- batch_size : batch size used in neural network for training\n",
    "- memory_length : replay memory buffer size\n",
    "- nn_epochs : number of epochs for neural network"
   ]
  },
  {
   "cell_type": "code",
   "execution_count": 6,
   "metadata": {},
   "outputs": [],
   "source": [
    "class DQNAgent:\n",
    "    def __init__(self,\n",
    "                 state_size,\n",
    "                 action_size,\n",
    "                 learning_rate=0.09,\n",
    "                 gamma=0.95,\n",
    "                 batch_size=32,\n",
    "                 memory_length=2000,\n",
    "                 nn_epochs=1):\n",
    "\n",
    "        self.set_hyperparameters(state_size, action_size, learning_rate, gamma,\n",
    "                                 batch_size, memory_length, nn_epochs)\n",
    "\n",
    "        # environment object\n",
    "        self.cab_environment = CabDriverEnvironment()\n",
    "\n",
    "        # create main and target model\n",
    "        self.model = self.build_model()\n",
    "\n",
    "        # create a model directory\n",
    "        self.create_model_dir()\n",
    "\n",
    "    def set_hyperparameters(self, state_size, action_size, learning_rate,\n",
    "                            gamma, batch_size, memory_length, nn_epochs):\n",
    "        # initialize state-size and action-size which is define the input and output neurons\n",
    "        # of the neural network.\n",
    "        #\n",
    "        # state_size = number of locations(5) + hours in a day (24) + days in a week (7)\n",
    "        # action_size = total number of possible actions from a given state i.e. ((m-1) * m) + 1\n",
    "        #\n",
    "        # number of neurons in the input layer : state_size\n",
    "        # number of neurons in the output layer : action_size\n",
    "        self.state_size = state_size\n",
    "        self.action_size = action_size\n",
    "\n",
    "        # define hyperparameters to be used for training the model\n",
    "        self.hyperparameters = {\n",
    "            'learning_rate': learning_rate,\n",
    "            'gamma': gamma,\n",
    "            'batch_size': batch_size,\n",
    "            'memory_length': memory_length,\n",
    "            'nn_epochs': nn_epochs\n",
    "        }\n",
    "\n",
    "        # replay memory for DQN\n",
    "        self.replay_memory = collections.deque(\n",
    "            maxlen=self.hyperparameters['memory_length'])\n",
    "\n",
    "    def create_model_dir(self):\n",
    "        lrate, gamma, bsize, mlength, epochs = self.hyperparameters\n",
    "        \n",
    "        self.model_dir = 'rl_cab_model_arch1_lrate_{0}_gamma_{1}_batch_size_{2}_memory_length_{3}'.format(\n",
    "            lrate, gamma, bsize, mlength)\n",
    "\n",
    "        if not os.path.exists(self.model_dir):\n",
    "            os.mkdir(self.model_dir)\n",
    "\n",
    "    def build_model(self):\n",
    "        \"\"\" Build neural network model\n",
    "        \"\"\"\n",
    "        model = Sequential()\n",
    "\n",
    "        # Input layer : 'state_size'\n",
    "        model.add(\n",
    "            Dense(32,\n",
    "                  input_dim=self.state_size,\n",
    "                  activation='relu',\n",
    "                  kernel_initializer='he_uniform'))\n",
    "\n",
    "        # Hidden Layers\n",
    "        model.add(Dense(32, activation='relu',\n",
    "                        kernel_initializer='he_uniform'))\n",
    "\n",
    "        # Output Layer : 'action_size'\n",
    "        model.add(\n",
    "            Dense(self.action_size,\n",
    "                  activation='relu',\n",
    "                  kernel_initializer='he_uniform'))\n",
    "\n",
    "        model.compile(loss='mse', optimizer=Adam(lr=self.hyperparameters['learning_rate']))\n",
    "\n",
    "        model.summary()\n",
    "\n",
    "        return model\n",
    "\n",
    "    def get_action(self, state, episode):\n",
    "        \"\"\" Choose an action for a given state and episode based on\n",
    "            Epsilon-Greedy strategy\n",
    "        \"\"\"\n",
    "        epsilon_min = 0.001\n",
    "        epsilon_max = 1.0\n",
    "        \n",
    "        # calculate decay factor for a given episode\n",
    "        epsilon = epsilon_min + (epsilon_max - epsilon_min) * np.exp(-0.0003 * episode)\n",
    "\n",
    "        random_value = np.random.random()\n",
    "        \n",
    "        # fetch possible requests and their index for a given location\n",
    "        # number of requests per location are calculated based on a poisson distribution\n",
    "        possible_requests_index, possible_requests = self.cab_environment.get_requests_per_location(state)\n",
    "        \n",
    "        if random_value > epsilon and len(possible_requests_index) > 0:\n",
    "            # exploitation\n",
    "            \n",
    "            # predict q-values of all possible actions for a given state\n",
    "            encoded_state = self.cab_environment.state_encod_arch1(state)\n",
    "            predicted_q_values = self.model.predict(encoded_state)\n",
    "            \n",
    "            # filter q-values corresponding to selected requests for a given location\n",
    "            filter_q_values = [predicted_q_values[0][i] for i in possible_requests_index]\n",
    "            \n",
    "            # select index of an action corresponding to max Q-value\n",
    "            index_max_q_value = np.argmax(np.array(filter_q_values))\n",
    "\n",
    "            # select request with maximum q-value\n",
    "            selected_action = possible_requests[index_max_q_value]\n",
    "\n",
    "        else:\n",
    "            # exploration\n",
    "\n",
    "            # select a random request from possible request space\n",
    "            selected_action = random.choice(possible_requests)\n",
    "            \n",
    "        return selected_action\n",
    "\n",
    "    def append_sample(self, state, action, reward, next_state):\n",
    "        self.replay_memory.append((state, action, reward, next_state))\n",
    "\n",
    "    def train_model(self):\n",
    "        \"\"\" Pick samples randomly from replay memory (with batch_size) and train the network\n",
    "        \"\"\"\n",
    "        # start training only when the number of samples in memory > batch size\n",
    "        if len(self.replay_memory) > self.hyperparameters['batch_size']:\n",
    "            \n",
    "            batch_size = self.hyperparameters['batch_size']\n",
    "\n",
    "            # Sample batch from the memory\n",
    "            mini_batch = random.sample(self.replay_memory, batch_size)\n",
    "\n",
    "            # initialize input state vector S\n",
    "            encoded_state_input = np.zeros((batch_size, self.state_size))\n",
    "\n",
    "            # initialize input state vector S'\n",
    "            encoded_next_state_input = np.zeros((batch_size, self.state_size))\n",
    "\n",
    "            action_list, reward_list = [], []\n",
    "\n",
    "            # for each element in the mini-batch, update input vectors\n",
    "            # with encoded state values\n",
    "            for i in range(batch_size):\n",
    "                state, action, reward, next_state = mini_batch[i]\n",
    "\n",
    "                encoded_state = self.cab_environment.state_encod_arch1(state)\n",
    "                encoded_state_input[i] = encoded_state\n",
    "\n",
    "                encoded_next_state = self.cab_environment.state_encod_arch1(\n",
    "                    next_state)\n",
    "                encoded_next_state_input[i] = encoded_next_state\n",
    "\n",
    "                action_list.append(action)\n",
    "                reward_list.append(reward)\n",
    "\n",
    "            # once the input matrices S and S' have been created, perform a feed-forward.\n",
    "            # this will generate q-values for all possible actions of a batch input\n",
    "            \n",
    "            # generate Q(s, a)\n",
    "            current_state_q_values = self.model.predict(encoded_state_input)\n",
    "            \n",
    "            # generate Q(s', a)\n",
    "            next_state_q_values = self.model.predict(encoded_next_state_input)\n",
    "            \n",
    "            # for each element in the batch, update respective q-values using the\n",
    "            # predicted and target q-values\n",
    "            for i in range(batch_size):\n",
    "                # each memory element is of form (s, a, s', r)\n",
    "                # output of NN for a given state generates q-values for all possible actions\n",
    "                # hence q-value update must be made to only that action 'a' \n",
    "                # out of all possible actions in the output\n",
    "\n",
    "                # given an action 'a', find the corresponding action index\n",
    "                performed_action = list(\n",
    "                    filter(\n",
    "                        lambda x: self.cab_environment.action_space[x] == action_list[i],\n",
    "                        range(0, len(self.cab_environment.action_space))))[0]\n",
    "                \n",
    "                # update q-value using formula (r + max Q(s',a))\n",
    "                current_state_q_values[i][performed_action] = reward_list[i] + (\n",
    "                    self.hyperparameters['gamma'] *\n",
    "                    np.max(next_state_q_values))\n",
    "            \n",
    "            # train the model with update Q-values\n",
    "            self.model.fit(encoded_state_input,\n",
    "                           current_state_q_values,\n",
    "                           batch_size=batch_size,\n",
    "                           epochs=self.hyperparameters['nn_epochs'],\n",
    "                           verbose=0)\n",
    "\n",
    "    def save(self):\n",
    "        f_name = self.model_dir + \"/\" + \"Q_Network_Model_\" + datetime.now().strftime(\"%Y%m%d_%H%M%S\") + \".model\"\n",
    "        self.model.save_weights(f_name)"
   ]
  },
  {
   "cell_type": "markdown",
   "metadata": {},
   "source": [
    "### Initialization\n",
    "---"
   ]
  },
  {
   "cell_type": "markdown",
   "metadata": {},
   "source": [
    "#### tracking states"
   ]
  },
  {
   "cell_type": "code",
   "execution_count": 7,
   "metadata": {},
   "outputs": [
    {
     "data": {
      "text/plain": [
       "defaultdict(None,\n",
       "            {(1, 0, 0): defaultdict(None, {(1, 2): []}),\n",
       "             (2, 2, 2): defaultdict(None, {(3, 4): []}),\n",
       "             (3, 5, 6): defaultdict(None, {(3, 3): []}),\n",
       "             (5, 0, 0): defaultdict(None, {(2, 3): []}),\n",
       "             (4, 14, 4): defaultdict(None, {(4, 3): []})})"
      ]
     },
     "execution_count": 7,
     "metadata": {},
     "output_type": "execute_result"
    }
   ],
   "source": [
    "tracked_states = defaultdict()\n",
    "initialize_tracking_states()\n",
    "tracked_states"
   ]
  },
  {
   "cell_type": "markdown",
   "metadata": {},
   "source": [
    "#### tracking variables"
   ]
  },
  {
   "cell_type": "code",
   "execution_count": 8,
   "metadata": {},
   "outputs": [],
   "source": [
    "total_episodes = 2000\n",
    "\n",
    "checkpoint_model_save = 1000\n",
    "checkpoint_state_tracking = 1000\n",
    "checkpoint_print_episodes = 100\n",
    "\n",
    "month_end_cost_time = 30 * 24\n",
    "\n",
    "training_total_rewards_distribution = []\n",
    "training_total_ride_time_distribution = []\n",
    "training_total_time_step_distribution = []"
   ]
  },
  {
   "cell_type": "markdown",
   "metadata": {},
   "source": [
    "#### agent class"
   ]
  },
  {
   "cell_type": "code",
   "execution_count": 9,
   "metadata": {},
   "outputs": [
    {
     "name": "stdout",
     "output_type": "stream",
     "text": [
      "WARNING:tensorflow:From G:\\Anaconda3\\lib\\site-packages\\tensorflow\\python\\framework\\op_def_library.py:263: colocate_with (from tensorflow.python.framework.ops) is deprecated and will be removed in a future version.\n",
      "Instructions for updating:\n",
      "Colocations handled automatically by placer.\n",
      "Model: \"sequential_1\"\n",
      "_________________________________________________________________\n",
      "Layer (type)                 Output Shape              Param #   \n",
      "=================================================================\n",
      "dense_1 (Dense)              (None, 32)                1184      \n",
      "_________________________________________________________________\n",
      "dense_2 (Dense)              (None, 32)                1056      \n",
      "_________________________________________________________________\n",
      "dense_3 (Dense)              (None, 21)                693       \n",
      "=================================================================\n",
      "Total params: 2,933\n",
      "Trainable params: 2,933\n",
      "Non-trainable params: 0\n",
      "_________________________________________________________________\n"
     ]
    }
   ],
   "source": [
    "driver_A = DQNAgent(state_size=36,\n",
    "                    action_size=21,\n",
    "                    learning_rate=0.01,\n",
    "                    gamma=0.85,\n",
    "                    batch_size=32,\n",
    "                    memory_length=2000,\n",
    "                    nn_epochs=3)"
   ]
  },
  {
   "cell_type": "markdown",
   "metadata": {},
   "source": [
    "### Q - Learning\n",
    "---"
   ]
  },
  {
   "cell_type": "code",
   "execution_count": 10,
   "metadata": {},
   "outputs": [],
   "source": [
    "def train_agent(driver):\n",
    "    start_time = time.time()\n",
    "\n",
    "    for episode in range(total_episodes):\n",
    "\n",
    "        # reset driver state at the beginning of each episode\n",
    "        current_state = driver.cab_environment.set_init_state()\n",
    "\n",
    "        # reset temporary tracking variables\n",
    "        has_reached_terminal_state = False\n",
    "        total_ride_time_per_episode = 0\n",
    "        total_rewards_per_episode = 0\n",
    "        time_step_per_episode = 0\n",
    "\n",
    "        while not has_reached_terminal_state:\n",
    "\n",
    "            # get the current action based on epsilon-greedy strategy\n",
    "            current_action = driver.get_action(current_state, episode)\n",
    "\n",
    "            # given the current state and action, calculate next state, reward and ride time\n",
    "            next_state, total_rewards, total_ride_time = driver.cab_environment.get_next_state(\n",
    "                current_state, current_action)\n",
    "\n",
    "            total_ride_time_per_episode += total_ride_time\n",
    "            total_rewards_per_episode += total_rewards\n",
    "\n",
    "            if total_ride_time_per_episode >= month_end_cost_time:\n",
    "                has_reached_terminal_state = True\n",
    "\n",
    "            # append current experience to replay buffer\n",
    "            driver.append_sample(current_state, current_action, reward, next_state)\n",
    "\n",
    "            # train the model\n",
    "            driver.train_model()\n",
    "\n",
    "            current_state = next_state\n",
    "            time_step_per_episode += 1\n",
    "\n",
    "        training_total_rewards_distribution.append(total_rewards_per_episode)\n",
    "        training_total_ride_time_distribution.append(total_ride_time_per_episode)\n",
    "        training_total_time_step_distribution.append(time_step_per_episode)\n",
    "        update\n",
    "        \n",
    "        if (episode + 1) % checkpoint_print_episodes == 0:\n",
    "            print(\n",
    "                \"Episode : %d, Avg Monthly Reward : %f, Avg Ride Time : %f, Avg Per Episode Time Step : %f\"\n",
    "                % (episode + 1,\n",
    "                   np.mean(training_total_rewards_distribution),\n",
    "                   np.mean(training_total_ride_time_distribution),\n",
    "                   np.mean(training_total_time_step_distribution)))\n",
    "\n",
    "    elapsed_time = time.time() - start_time\n",
    "    print(\"Elapsed time :\", elapsed_time)"
   ]
  },
  {
   "cell_type": "code",
   "execution_count": null,
   "metadata": {},
   "outputs": [],
   "source": []
  }
 ],
 "metadata": {
  "file_extension": ".py",
  "kernelspec": {
   "display_name": "Python 3",
   "language": "python",
   "name": "python3"
  },
  "language_info": {
   "codemirror_mode": {
    "name": "ipython",
    "version": 3
   },
   "file_extension": ".py",
   "mimetype": "text/x-python",
   "name": "python",
   "nbconvert_exporter": "python",
   "pygments_lexer": "ipython3",
   "version": "3.7.0"
  },
  "mimetype": "text/x-python",
  "name": "python",
  "npconvert_exporter": "python",
  "pygments_lexer": "ipython3",
  "version": 3
 },
 "nbformat": 4,
 "nbformat_minor": 2
}
