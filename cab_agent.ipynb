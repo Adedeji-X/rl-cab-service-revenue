{
 "cells": [
  {
   "cell_type": "markdown",
   "metadata": {},
   "source": [
    "## Cab Driver Agent\n",
    "---\n"
   ]
  },
  {
   "cell_type": "code",
   "execution_count": 1,
   "metadata": {},
   "outputs": [],
   "source": [
    "%config IPCompleter.greedy = True"
   ]
  },
  {
   "cell_type": "code",
   "execution_count": 2,
   "metadata": {},
   "outputs": [
    {
     "name": "stderr",
     "output_type": "stream",
     "text": [
      "Using TensorFlow backend.\n"
     ]
    }
   ],
   "source": [
    "import collections\n",
    "import numpy as np\n",
    "import random\n",
    "import pickle\n",
    "import time\n",
    "import os\n",
    "\n",
    "from keras import layers\n",
    "from keras import Sequential\n",
    "from keras.layers import Dense, Activation, Flatten\n",
    "from keras.optimizers import Adam\n",
    "\n",
    "from matplotlib import pyplot as plt\n",
    "from itertools import product\n",
    "\n",
    "from cab_environment import CabDriverEnvironment\n",
    "\n",
    "%matplotlib inline"
   ]
  },
  {
   "cell_type": "markdown",
   "metadata": {},
   "source": [
    "### State Tracking\n",
    "---"
   ]
  },
  {
   "cell_type": "markdown",
   "metadata": {},
   "source": [
    "#### tracking states initialization"
   ]
  },
  {
   "cell_type": "code",
   "execution_count": 3,
   "metadata": {},
   "outputs": [],
   "source": [
    "def initialize_tracking_states():\n",
    "    state_action_pair = [((1, 0, 0), (1, 2)), ((2, 2, 2), (3, 4)),\n",
    "                         ((3, 5, 6), (3, 3)), ((5, 0, 0), (2, 3)),\n",
    "                         ((4, 14, 4), (4, 3))]\n",
    "\n",
    "    for st, ac in state_action_pair:\n",
    "        tracked_states[st][ac] = list()"
   ]
  },
  {
   "cell_type": "markdown",
   "metadata": {},
   "source": [
    "#### persist q-values corresponding to tracked states"
   ]
  },
  {
   "cell_type": "code",
   "execution_count": null,
   "metadata": {},
   "outputs": [],
   "source": []
  },
  {
   "cell_type": "markdown",
   "metadata": {},
   "source": [
    "#### save model object"
   ]
  },
  {
   "cell_type": "code",
   "execution_count": 4,
   "metadata": {},
   "outputs": [],
   "source": [
    "def save_obj(obj, name):\n",
    "    with open(name + '.pkl', 'wb') as f:\n",
    "        pickle.dump(obj, f, pickle.HIGHEST_PROTOCOL)"
   ]
  },
  {
   "cell_type": "markdown",
   "metadata": {},
   "source": [
    "### Epsilon - Greedy Strategy\n",
    "---"
   ]
  },
  {
   "cell_type": "markdown",
   "metadata": {},
   "source": [
    "Epsilon greedy policy is a way of selecting random actions with uniform distribution from a set of available actions. Using this policy either we can select random action with epsilon probability and we can select an action with 1-epsilon probability that gives maximum reward in given state"
   ]
  },
  {
   "cell_type": "markdown",
   "metadata": {},
   "source": [
    "#### check epsilon decay over episodes"
   ]
  },
  {
   "cell_type": "code",
   "execution_count": 5,
   "metadata": {},
   "outputs": [
    {
     "data": {
      "image/png": "[encoded data removed]",
      "text/plain": [
       "<Figure size 432x288 with 1 Axes>"
      ]
     },
     "metadata": {
      "needs_background": "light"
     },
     "output_type": "display_data"
    }
   ],
   "source": [
    "epsilon = []\n",
    "max_epsilon = 1.0\n",
    "min_epsilon = 0.001\n",
    "\n",
    "# number of episodes for training : 10,000\n",
    "episodes = np.arange(0, 10000)\n",
    "\n",
    "for i in episodes:\n",
    "    epsilon.append(min_epsilon +\n",
    "                   (max_epsilon - min_epsilon) * np.exp(-0.0003 * i))\n",
    "\n",
    "plt.plot(episodes, epsilon)\n",
    "plt.show()"
   ]
  },
  {
   "cell_type": "markdown",
   "metadata": {},
   "source": [
    ">  formula to calculate epsilon : **(min_epsilon + (max_epsilon - min_epsilon) * np.exp(-0.0003 * i))**\n",
    "-  minimum epsilon : 0.001\n",
    "-  maximum epsilon : 1.0"
   ]
  },
  {
   "cell_type": "markdown",
   "metadata": {},
   "source": [
    "### Agent Class\n",
    "---"
   ]
  },
  {
   "cell_type": "code",
   "execution_count": 6,
   "metadata": {},
   "outputs": [],
   "source": [
    "class DQNAgent:\n",
    "    def __init__(self,\n",
    "                 state_size,\n",
    "                 action_size,\n",
    "                 learning_rate=0.09,\n",
    "                 gamma=0.95,\n",
    "                 batch_size=32,\n",
    "                 memory_length=2000,\n",
    "                 nn_epochs=1):\n",
    "\n",
    "        self.set_hyperparameters(state_size, action_size, learning_rate, gamma,\n",
    "                                 batch_size, memory_length, nn_epochs)\n",
    "\n",
    "        # environment object\n",
    "        self.cab_environment = CabDriverEnvironment()\n",
    "\n",
    "        # create main and target model\n",
    "        self.model = self.build_model()\n",
    "\n",
    "        # create a model directory\n",
    "        self.create_model_dir()\n",
    "\n",
    "    def set_hyperparameters(self, state_size, action_size, learning_rate,\n",
    "                            gamma, batch_size, memory_length, nn_epochs):\n",
    "        \"\"\" Hyperparameters used in training sample\n",
    "        \"\"\"\n",
    "        # initialize state-size and action-size which is define the input and output neurons\n",
    "        # of the neural network.\n",
    "        #\n",
    "        # state_size = number of locations(5) + hours in a day (24) + days in a week (7)\n",
    "        # action_size = total number of possible actions from a given state i.e. ((m-1) * m) + 1\n",
    "        #\n",
    "        # number of neurons in the input layer : state_size\n",
    "        # number of neurons in the output layer : action_size\n",
    "        self.state_size = state_size\n",
    "        self.action_size = action_size\n",
    "\n",
    "        # define hyperparameters to be used for training the model\n",
    "        self.hyperparameters = {\n",
    "            'learning_rate': learning_rate,\n",
    "            'gamma': gamma,\n",
    "            'batch_size': batch_size,\n",
    "            'memory_length': memory_length,\n",
    "            'nn_epochs': nn_epochs\n",
    "        }\n",
    "\n",
    "        # replay memory for DQN\n",
    "        self.replay_memory = collections.deque(\n",
    "            maxlen=self.hyperparameters['memory_length'])\n",
    "\n",
    "    def create_model_dir(self):\n",
    "        \"\"\" Create a folder to store trained model\n",
    "        \"\"\"\n",
    "        learning_rate, gamma, batch_size, memory_length = self.hyperparameters\n",
    "\n",
    "        self.model_dir = 'rl_cab_model_arch1_lrate_{0}_gamma_{1}_batch_size_{2}_memory_length_{3}'.format(\n",
    "            learning_rate, gamma, batch_size, memory_length)\n",
    "\n",
    "        if not os.path.exists(self.model_dir):\n",
    "            os.mkdir(self.model_dir)\n",
    "\n",
    "    def build_model(self):\n",
    "        \"\"\" Define neural network\n",
    "        \"\"\"\n",
    "        model = Sequential()\n",
    "\n",
    "        # Input layer : 'state_size'\n",
    "        model.add(\n",
    "            Dense(32,\n",
    "                  input_dim=self.state_size,\n",
    "                  activation='relu',\n",
    "                  kernel_initializer='he_uniform'))\n",
    "\n",
    "        # Hidden Layers\n",
    "        model.add(Dense(32, activation='relu',\n",
    "                        kernel_initializer='he_uniform'))\n",
    "\n",
    "        # Output Layer : 'action_size'\n",
    "        model.add(\n",
    "            Dense(self.action_size,\n",
    "                  activation='relu',\n",
    "                  kernel_initializer='he_uniform'))\n",
    "\n",
    "        model.compile(loss='mse', optimizer=Adam(lr=self.learning_rate))\n",
    "\n",
    "        model.summary()\n",
    "\n",
    "        return model\n",
    "\n",
    "    def get_action(self, state, episode):\n",
    "        \"\"\" Choose an action for a given state and episode based on\n",
    "            Epsilon-Greedy strategy\n",
    "        \"\"\"\n",
    "        # calculate decay factor for a given episode\n",
    "        epsilon = self.epsilon_min + (\n",
    "            self.epsilon_max - self.epsilon_min) * np.exp(-0.0003 * episode)\n",
    "\n",
    "        random_value = np.random.random()\n",
    "\n",
    "        # fetch possible requests and their index for a given location\n",
    "        # number of requests per location are calculated based on a poisson distribution\n",
    "        request_index, possible_requests = self.cab_environment.get_requests_per_location(state)\n",
    "\n",
    "        if random_value > epsilon:\n",
    "            # exploitation\n",
    "\n",
    "            # predict q-values of all possible actions for a given state\n",
    "            encoded_state = self.cab_environment.state_encod_arch1(state)\n",
    "            predicted_q_values = self.model.predict(encoded_state)\n",
    "\n",
    "            # filter q-values corresponding to selected requests for a given location\n",
    "            filter_q_values = [predicted_q_values[0][i] for i in request_index]\n",
    "\n",
    "            # select index of an action corresponding to max Q-value\n",
    "            index_max_q_value = np.argmax(np.array(filter_q_values))\n",
    "\n",
    "            # select request with maximum q-value\n",
    "            selected_action = possible_requests[index_max_q_value]\n",
    "\n",
    "        else:\n",
    "            # exploration\n",
    "\n",
    "            # select a random request from possible request space\n",
    "            selected_action = random.choice(possible_requests)\n",
    "\n",
    "        return selected_action\n",
    "\n",
    "    def append_sample(self, state, action, reward, next_state):\n",
    "        \"\"\" Insert sample into replay memory buffer\n",
    "        \"\"\"\n",
    "        self.replay_memory.append((state, action, reward, next_state))\n",
    "\n",
    "    def save_model(self):\n",
    "        file_name = self.model_dir + \"/\" + \"dqn_model_\" + datetime.now().strftime(\"%Y%m%d_%H%M%S\") + \".model\"\n",
    "        self.model.save_weights(file_name)\n",
    "        \n",
    "    def train_model(self):\n",
    "        \"\"\" Pick samples randomly from replay memory (with batch_size) and train the network\n",
    "        \"\"\"\n",
    "        # start training only when the number of samples in memory > batch size\n",
    "        if len(self.replay_memory) > self.hyperparameters['batch_size']:\n",
    "            batch_size = self.hyperparameters['batch_size']\n",
    "\n",
    "            # Sample batch from the memory\n",
    "            mini_batch = random.sample(self.memory, batch_size)\n",
    "\n",
    "            # initialize input state vector S\n",
    "            encoded_state_input = np.zeros((batch_size, self.state_size))\n",
    "\n",
    "            # initialize input state vector S'\n",
    "            encoded_next_state_input = np.zeros((batch_size, self.state_size))\n",
    "\n",
    "            action_list, reward_list = [], []\n",
    "\n",
    "            # for each element in the mini-batch, update input vectors\n",
    "            # with encoded state values\n",
    "            for i in range(batch_size):\n",
    "                state, action, reward, next_state = mini_batch[i]\n",
    "\n",
    "                encoded_state = self.cab_environment.state_encod_arch1(state)\n",
    "                encoded_state_input[i] = encoded_state\n",
    "\n",
    "                encoded_next_state = self.cab_environment.state_encod_arch1(\n",
    "                    next_state)\n",
    "                encoded_next_state_input[i] = encoded_next_state\n",
    "\n",
    "                action_list.append(action)\n",
    "                reward_list.append(reward)\n",
    "\n",
    "            # once the input matrices S and S' have been created, perform a feed-forward.\n",
    "            # this will generate q-values for all possible actions of a batch input\n",
    "\n",
    "            # generate Q(s, a)\n",
    "            current_state_q_values = self.model.predict(encoded_state_input)\n",
    "\n",
    "            # generate Q(s', a)\n",
    "            next_state_q_values = self.model.predict(encoded_next_state_input)\n",
    "\n",
    "            # for each element in the batch, update respective q-values using the\n",
    "            # formula (r + maxQ(s',a))\n",
    "            for i in range(batch_size):\n",
    "                action_idx = list(\n",
    "                    filter(\n",
    "                        lambda x: self.cab_environment.action_space[x] == action_list[i],\n",
    "                        range(0, len(self.cab_environment.action_space))))[0]\n",
    "                \n",
    "                # update q-values based on current model output\n",
    "                current_state_q_values[i][action_idx] = reward_list[i] + (\n",
    "                    self.hyperparameters['gamma'] *\n",
    "                    np.max(next_state_q_values))\n",
    "            \n",
    "            # train the model with update Q-values\n",
    "            self.model.fit(encoded_state_input,\n",
    "                           current_state_q_values,\n",
    "                           batch_size=batch_size,\n",
    "                           epochs=self.hyperparameters['nn_epochs'],\n",
    "                           verbose=0)"
   ]
  },
  {
   "cell_type": "code",
   "execution_count": null,
   "metadata": {},
   "outputs": [],
   "source": []
  }
 ],
 "metadata": {
  "file_extension": ".py",
  "kernelspec": {
   "display_name": "Python 3",
   "language": "python",
   "name": "python3"
  },
  "language_info": {
   "codemirror_mode": {
    "name": "ipython",
    "version": 3
   },
   "file_extension": ".py",
   "mimetype": "text/x-python",
   "name": "python",
   "nbconvert_exporter": "python",
   "pygments_lexer": "ipython3",
   "version": "3.7.0"
  },
  "mimetype": "text/x-python",
  "name": "python",
  "npconvert_exporter": "python",
  "pygments_lexer": "ipython3",
  "version": 3
 },
 "nbformat": 4,
 "nbformat_minor": 2
}
